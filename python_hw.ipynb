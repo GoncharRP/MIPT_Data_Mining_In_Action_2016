{
 "cells": [
  {
   "cell_type": "markdown",
   "metadata": {},
   "source": [
    "# Знакомство с Python"
   ]
  },
  {
   "cell_type": "markdown",
   "metadata": {},
   "source": [
    "## Python"
   ]
  },
  {
   "cell_type": "code",
   "execution_count": 7,
   "metadata": {
    "collapsed": false
   },
   "outputs": [
    {
     "name": "stdout",
     "output_type": "stream",
     "text": [
      "1\n",
      "2\n",
      "Fizz\n",
      "4\n",
      "Buzz\n",
      "Fizz\n",
      "7\n",
      "8\n",
      "Fizz\n",
      "Buzz\n",
      "11\n",
      "Fizz\n",
      "13\n",
      "14\n",
      "FizzBuzz\n",
      "16\n",
      "17\n",
      "Fizz\n",
      "19\n",
      "Buzz\n",
      "Fizz\n",
      "22\n",
      "23\n",
      "Fizz\n",
      "Buzz\n",
      "26\n",
      "Fizz\n",
      "28\n",
      "29\n",
      "FizzBuzz\n",
      "31\n",
      "32\n",
      "Fizz\n",
      "34\n",
      "Buzz\n",
      "Fizz\n",
      "37\n",
      "38\n",
      "Fizz\n",
      "Buzz\n",
      "41\n",
      "Fizz\n",
      "43\n",
      "44\n",
      "FizzBuzz\n",
      "46\n",
      "47\n",
      "Fizz\n",
      "49\n",
      "Buzz\n",
      "Fizz\n",
      "52\n",
      "53\n",
      "Fizz\n",
      "Buzz\n",
      "56\n",
      "Fizz\n",
      "58\n",
      "59\n",
      "FizzBuzz\n",
      "61\n",
      "62\n",
      "Fizz\n",
      "64\n",
      "Buzz\n",
      "Fizz\n",
      "67\n",
      "68\n",
      "Fizz\n",
      "Buzz\n",
      "71\n",
      "Fizz\n",
      "73\n",
      "74\n",
      "FizzBuzz\n",
      "76\n",
      "77\n",
      "Fizz\n",
      "79\n",
      "Buzz\n",
      "Fizz\n",
      "82\n",
      "83\n",
      "Fizz\n",
      "Buzz\n",
      "86\n",
      "Fizz\n",
      "88\n",
      "89\n",
      "FizzBuzz\n",
      "91\n",
      "92\n",
      "Fizz\n",
      "94\n",
      "Buzz\n",
      "Fizz\n",
      "97\n",
      "98\n",
      "Fizz\n",
      "Buzz\n"
     ]
    }
   ],
   "source": [
    "for x in range(1, 101):\n",
    "    s = ''\n",
    "    if x%3 == 0:\n",
    "        s += 'Fizz'\n",
    "    if x%5 == 0:\n",
    "        s += 'Buzz'\n",
    "    if not s:\n",
    "        s += str(x)\n",
    "    print(s)"
   ]
  },
  {
   "cell_type": "code",
   "execution_count": 13,
   "metadata": {
    "collapsed": false
   },
   "outputs": [
    {
     "data": {
      "text/plain": [
       "218922995834555169026"
      ]
     },
     "execution_count": 13,
     "metadata": {},
     "output_type": "execute_result"
    }
   ],
   "source": [
    "d = {0: 0, 1: 1}\n",
    "\n",
    "def fib_func(n):\n",
    "    if n in d.keys():\n",
    "        return d[n]\n",
    "    d[n] = fib_func(n-1) + fib_func(n-2)\n",
    "    return d[n]\n",
    "\n",
    "fib_func(99)"
   ]
  },
  {
   "cell_type": "code",
   "execution_count": 25,
   "metadata": {
    "collapsed": false
   },
   "outputs": [
    {
     "data": {
      "text/plain": [
       "[1, 1, 2, 3, 4, 5, 5, 6, 8, 9, 10, 12]"
      ]
     },
     "execution_count": 25,
     "metadata": {},
     "output_type": "execute_result"
    }
   ],
   "source": [
    "def sort_array(array):\n",
    "    array_less = []\n",
    "    array_eq = []\n",
    "    array_greater = []\n",
    "    \n",
    "    if len(array) > 1:\n",
    "        pivot = array[0]\n",
    "        for x in array:\n",
    "            if x < pivot:\n",
    "                array_less.append(x)\n",
    "            if x == pivot:\n",
    "                array_eq.append(x)\n",
    "            if x > pivot:\n",
    "                array_greater.append(x)\n",
    "        return sort_array(array_less) + array_eq + sort_array(array_greater)\n",
    "    else:\n",
    "        return array\n",
    "\n",
    "array = [1, 5, 4, 1, 12, 10, 6, 2, 8, 9, 3, 5]\n",
    "sort_array(array)"
   ]
  },
  {
   "cell_type": "code",
   "execution_count": 29,
   "metadata": {
    "collapsed": false
   },
   "outputs": [
    {
     "data": {
      "text/plain": [
       "[1, 1, 2, 3, 4, 5, 5, 6, 8, 9, 10, 12]"
      ]
     },
     "execution_count": 29,
     "metadata": {},
     "output_type": "execute_result"
    }
   ],
   "source": [
    "def sort_array(array):\n",
    "    return (sort_array([x for x in array if x < array[0]]) + [x for x in array if x == array[0]] + \n",
    "            sort_array([x for x in array if x > array[0]]) if array else [])\n",
    "\n",
    "array = [1, 5, 4, 1, 12, 10, 6, 2, 8, 9, 3, 5]\n",
    "sort_array(array)"
   ]
  },
  {
   "cell_type": "markdown",
   "metadata": {},
   "source": [
    "## NumPy"
   ]
  },
  {
   "cell_type": "code",
   "execution_count": 53,
   "metadata": {
    "collapsed": false
   },
   "outputs": [
    {
     "name": "stdout",
     "output_type": "stream",
     "text": [
      "10000 loops, best of 3: 48.9 µs per loop\n",
      "100 loops, best of 3: 4.51 ms per loop\n",
      "100 loops, best of 3: 4.39 ms per loop\n"
     ]
    }
   ],
   "source": [
    "import numpy as np\n",
    "\n",
    "def my_linspace1(start, stop, num):\n",
    "    step = (stop-start)/(num-1)\n",
    "    array = []\n",
    "    for i in range(num):\n",
    "        a = start + i*step\n",
    "        array.append(a)\n",
    "    return array\n",
    "\n",
    "def my_linspace2(start, stop, num):\n",
    "    return [start+i*(stop-start)/(num-1) for i in range(num)]\n",
    "\n",
    "%timeit np.linspace(0, 100, 10000)\n",
    "%timeit my_linspace1(0, 100, 10000)\n",
    "%timeit my_linspace2(0, 100, 10000)"
   ]
  },
  {
   "cell_type": "code",
   "execution_count": 55,
   "metadata": {
    "collapsed": false
   },
   "outputs": [
    {
     "name": "stdout",
     "output_type": "stream",
     "text": [
      "10000 loops, best of 3: 143 µs per loop\n",
      "1000000 loops, best of 3: 534 ns per loop\n"
     ]
    }
   ],
   "source": [
    "%timeit np.arange(0, 100000)\n",
    "%timeit range(0, 100000)"
   ]
  },
  {
   "cell_type": "markdown",
   "metadata": {},
   "source": [
    "## Matplotlib"
   ]
  },
  {
   "cell_type": "code",
   "execution_count": 137,
   "metadata": {
    "collapsed": false
   },
   "outputs": [],
   "source": [
    "%matplotlib inline\n",
    "import matplotlib.pyplot as plt\n",
    "from math import pi"
   ]
  },
  {
   "cell_type": "code",
   "execution_count": 138,
   "metadata": {
    "collapsed": false
   },
   "outputs": [],
   "source": [
    "x = np.linspace(0, 4, 401)"
   ]
  },
  {
   "cell_type": "code",
   "execution_count": 197,
   "metadata": {
    "collapsed": false
   },
   "outputs": [
    {
     "data": {
      "image/png": "[encoded data removed]",
      "text/plain": [
       "<matplotlib.figure.Figure at 0xac30518>"
      ]
     },
     "metadata": {},
     "output_type": "display_data"
    }
   ],
   "source": [
    "fig = plt.figure(figsize=(12,4))\n",
    "\n",
    "plt.subplot(1,2,1)\n",
    "plt.plot(x, np.cos(pi*x), x, np.sin(pi*x), '--', x, 0.5*np.cos(2*pi*x))\n",
    "plt.xlabel(r'$X-axis$')\n",
    "plt.ylabel(r'$Y-axis$')\n",
    "plt.legend([r'$cos({\\pi}x)$', r'$sin({\\pi}x)$', r'$0.5*cos(2{\\pi}x)$'], bbox_to_anchor=(0., 1.02, 1., .102), loc=3,\n",
    "           ncol=3, mode=\"expand\", borderaxespad=0.)\n",
    "plt.grid()\n",
    "\n",
    "plt.subplot(1, 2, 2)\n",
    "plt.plot(x, np.exp(-x), x, x*np.exp(-x), '--')\n",
    "plt.xlabel(r'$X-axis$')\n",
    "plt.ylabel(r'$Y-axis$')\n",
    "plt.legend([r'$exp(-x)$', r'$x*exp(-x)$'], bbox_to_anchor=(0., 1.02, 1., .102), loc=3,\n",
    "           ncol=2, mode=\"expand\", borderaxespad=0.)\n",
    "plt.grid()\n",
    "\n",
    "plt.tight_layout()\n",
    "\n",
    "plt.show()\n",
    "\n",
    "fig.savefig('example_mpl.png')"
   ]
  },
  {
   "cell_type": "markdown",
   "metadata": {},
   "source": [
    "## SciPy"
   ]
  },
  {
   "cell_type": "code",
   "execution_count": 3,
   "metadata": {
    "collapsed": false
   },
   "outputs": [
    {
     "name": "stdout",
     "output_type": "stream",
     "text": [
      "[[ 0.66961412 -2.09220252  0.430847    0.20801307 -0.18264262]\n",
      " [-0.13633546  0.10156924 -0.62414714  0.90237764  0.61691832]\n",
      " [-1.32711249  0.15456979 -0.85942465  0.70791477 -0.34582851]\n",
      " [ 0.74153765 -0.65203498 -0.5546092   0.07677899 -1.63889481]\n",
      " [-0.108953    2.06213448 -1.12651242 -1.05350727 -1.7697529 ]]\n"
     ]
    }
   ],
   "source": [
    "import numpy as np\n",
    "X = np.random.randn(5, 5)\n",
    "print(X)"
   ]
  },
  {
   "cell_type": "code",
   "execution_count": 4,
   "metadata": {
    "collapsed": false
   },
   "outputs": [
    {
     "name": "stdout",
     "output_type": "stream",
     "text": [
      "eigenvalues =  [-2.93901115+0.j         -1.07069130+0.j          0.90114029+1.19535592j\n",
      "  0.90114029-1.19535592j  0.42620667+0.j        ]\n",
      "eigenvectors =  [[-0.15464523+0.j          0.31149330+0.j         -0.47805631-0.33746808j\n",
      "  -0.47805631+0.33746808j -0.01181256+0.j        ]\n",
      " [-0.31462858+0.j          0.45534399+0.j         -0.18483564+0.32863446j\n",
      "  -0.18483564-0.32863446j -0.21549250+0.j        ]\n",
      " [-0.07599844+0.j          0.79467060+0.j          0.15543673+0.14935222j\n",
      "   0.15543673-0.14935222j -0.51939893+0.j        ]\n",
      " [ 0.41137452+0.j          0.14643593+0.j         -0.65576882+0.j\n",
      "  -0.65576882-0.j         -0.71840140+0.j        ]\n",
      " [ 0.83790749+0.j         -0.20661298+0.j          0.13448475+0.1443159j\n",
      "   0.13448475-0.1443159j   0.40932581+0.j        ]]\n"
     ]
    }
   ],
   "source": [
    "from scipy import linalg\n",
    "\n",
    "values, vectors = linalg.eig(X)\n",
    "print('eigenvalues = ', values)\n",
    "print('eigenvectors = ', vectors)"
   ]
  },
  {
   "cell_type": "code",
   "execution_count": 8,
   "metadata": {
    "collapsed": false
   },
   "outputs": [
    {
     "data": {
      "text/plain": [
       "array([  1.33226763e-15-0.j,   0.00000000e+00-0.j,   3.60822483e-16-0.j,\n",
       "         6.66133815e-16+0.j,  -2.66453526e-15+0.j])"
      ]
     },
     "execution_count": 8,
     "metadata": {},
     "output_type": "execute_result"
    }
   ],
   "source": [
    "values[0]*vectors[:, 0] - np.dot(X, vectors[:, 0])"
   ]
  },
  {
   "cell_type": "code",
   "execution_count": 10,
   "metadata": {
    "collapsed": false
   },
   "outputs": [
    {
     "data": {
      "text/plain": [
       "array([ -3.88578059e-16+0.j,  -3.88578059e-16+0.j,   1.11022302e-16+0.j,\n",
       "        -2.77555756e-16+0.j,   8.60422844e-16-0.j])"
      ]
     },
     "execution_count": 10,
     "metadata": {},
     "output_type": "execute_result"
    }
   ],
   "source": [
    "values[1]*vectors[:, 1] - np.dot(X, vectors[:, 1])"
   ]
  },
  {
   "cell_type": "code",
   "execution_count": null,
   "metadata": {
    "collapsed": true
   },
   "outputs": [],
   "source": []
  }
 ],
 "metadata": {
  "kernelspec": {
   "display_name": "Python 3",
   "language": "python",
   "name": "python3"
  },
  "language_info": {
   "codemirror_mode": {
    "name": "ipython",
    "version": 3
   },
   "file_extension": ".py",
   "mimetype": "text/x-python",
   "name": "python",
   "nbconvert_exporter": "python",
   "pygments_lexer": "ipython3",
   "version": "3.5.1"
  }
 },
 "nbformat": 4,
 "nbformat_minor": 0
}
